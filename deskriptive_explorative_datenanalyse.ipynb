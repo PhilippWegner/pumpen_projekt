{
 "cells": [
  {
   "cell_type": "code",
   "execution_count": 66,
   "metadata": {},
   "outputs": [],
   "source": [
    "import pathlib as pl\n",
    "import pandas as pd\n",
    "from asammdf import MDF\n",
    "import ipywidgets as widgets"
   ]
  },
  {
   "cell_type": "code",
   "execution_count": 67,
   "metadata": {},
   "outputs": [],
   "source": [
    "# E:\\Messdaten\\Setup-I\\2021-04-28 - Gut 1 as pathlib path\n",
    "kidaq_folder = r'E:\\Messdaten\\Setup-I\\2021-04-28 - Gut 1\\KiDAQ'"
   ]
  },
  {
   "cell_type": "code",
   "execution_count": 68,
   "metadata": {},
   "outputs": [
    {
     "data": {
      "application/vnd.jupyter.widget-view+json": {
       "model_id": "c0af01bfbaec4341bb07e989465cec9d",
       "version_major": 2,
       "version_minor": 0
      },
      "text/plain": [
       "TagsInput(value=['E:\\\\Messdaten\\\\Setup-I\\\\2021-04-28 - Gut 1\\\\KiDAQ\\\\1450rpm', 'E:\\\\Messdaten\\\\Setup-I\\\\2021-0…"
      ]
     },
     "metadata": {},
     "output_type": "display_data"
    }
   ],
   "source": [
    "# create a path object\n",
    "path = pl.Path(kidaq_folder)\n",
    "# list all folders in the path\n",
    "folders = [str(x) for x in path.iterdir() if x.is_dir()]\n",
    "# create a widget to select the folders\n",
    "tags = widgets.TagsInput(\n",
    "    value=folders,\n",
    "    allowed_tags=folders,\n",
    "    allow_duplicates=False,\n",
    "    description='Folders:',\n",
    ")\n",
    "display(tags)"
   ]
  },
  {
   "cell_type": "code",
   "execution_count": 69,
   "metadata": {},
   "outputs": [
    {
     "data": {
      "application/vnd.jupyter.widget-view+json": {
       "model_id": "21283bf0e59b4a94b50fa36f8aa92425",
       "version_major": 2,
       "version_minor": 0
      },
      "text/plain": [
       "BoundedIntText(value=100000, description='Window Size:', max=1000000)"
      ]
     },
     "metadata": {},
     "output_type": "display_data"
    }
   ],
   "source": [
    "# set window size\n",
    "window_size_int = widgets.BoundedIntText(\n",
    "    value=100000,\n",
    "    min=0,\n",
    "    max=1000000,\n",
    "    step=1,\n",
    "    description='Window Size:',\n",
    "    disabled=False\n",
    ")\n",
    "display(window_size_int)"
   ]
  },
  {
   "cell_type": "code",
   "execution_count": 70,
   "metadata": {},
   "outputs": [
    {
     "data": {
      "application/vnd.jupyter.widget-view+json": {
       "model_id": "7ac20fa650d84942ae571843591cdcf7",
       "version_major": 2,
       "version_minor": 0
      },
      "text/plain": [
       "BoundedIntText(value=100000, description='Step Size:', max=1000000)"
      ]
     },
     "metadata": {},
     "output_type": "display_data"
    }
   ],
   "source": [
    "# set window size\n",
    "step_size_int = widgets.BoundedIntText(\n",
    "    value=100000,\n",
    "    min=0,\n",
    "    max=1000000,\n",
    "    step=1,\n",
    "    description='Step Size:',\n",
    "    disabled=False\n",
    ")\n",
    "display(step_size_int)"
   ]
  },
  {
   "cell_type": "code",
   "execution_count": 71,
   "metadata": {},
   "outputs": [
    {
     "data": {
      "application/vnd.jupyter.widget-view+json": {
       "model_id": "d44bd987d2f645a2b37a15dd7172032b",
       "version_major": 2,
       "version_minor": 0
      },
      "text/plain": [
       "Dropdown(description='Aggregation:', options=('median', 'std', 'min', 'max'), value='median')"
      ]
     },
     "metadata": {},
     "output_type": "display_data"
    }
   ],
   "source": [
    "agg_type_dropdown = widgets.Dropdown(\n",
    "    options=['median', 'std', 'min', 'max'],\n",
    "    value='median',\n",
    "    description='Aggregation:',\n",
    "    disabled=False,\n",
    ")\n",
    "display(agg_type_dropdown)"
   ]
  },
  {
   "cell_type": "code",
   "execution_count": 72,
   "metadata": {},
   "outputs": [
    {
     "data": {
      "text/plain": [
       "<Figure size 640x480 with 0 Axes>"
      ]
     },
     "metadata": {},
     "output_type": "display_data"
    },
    {
     "data": {
      "text/plain": [
       "<Figure size 640x480 with 0 Axes>"
      ]
     },
     "metadata": {},
     "output_type": "display_data"
    },
    {
     "data": {
      "text/plain": [
       "<Figure size 640x480 with 0 Axes>"
      ]
     },
     "metadata": {},
     "output_type": "display_data"
    },
    {
     "data": {
      "text/plain": [
       "<Figure size 640x480 with 0 Axes>"
      ]
     },
     "metadata": {},
     "output_type": "display_data"
    },
    {
     "data": {
      "text/plain": [
       "<Figure size 640x480 with 0 Axes>"
      ]
     },
     "metadata": {},
     "output_type": "display_data"
    }
   ],
   "source": [
    "# read mdf file in loop and aggregate data\n",
    "for folder in tags.value:\n",
    "    # transform folder string to path object\n",
    "    folder_path = pl.Path(folder)\n",
    "    # get all mdf files in the folder\n",
    "    mdf_files = [x for x in folder_path.iterdir() if x.suffix == '.mf4']\n",
    "    # cut the folder path to get the folder name\n",
    "    folder_name = folder_path.parts[-4:]\n",
    "    # create a new folder in output/plots folder with todays date\n",
    "    output_folder = pl.Path('output/plots') / pl.Path(f'{agg_type_dropdown.value}') / pl.Path(folder_name[0]) / pl.Path(folder_name[1]) / pl.Path(folder_name[2]) / pl.Path(folder_name[3])\n",
    "    # create the folder if it exists replace it\n",
    "    output_folder.mkdir(parents=True, exist_ok=True)\n",
    "    # loop over all mdf files in the folder\n",
    "    for mdf_file in mdf_files:\n",
    "        # create a mdf object\n",
    "        mdf_obj = MDF(mdf_file)\n",
    "        # transform to dataframe\n",
    "        df = mdf_obj.to_dataframe()\n",
    "        # aggregate data\n",
    "        df_agg = df[['p1', 'p2']].rolling(window=window_size_int.value, step=step_size_int.value).agg(agg_type_dropdown.value)\n",
    "        # give title to plot \n",
    "        title = f'{agg_type_dropdown.value} of {mdf_file.stem}'\n",
    "        # plot data as figure\n",
    "        df_figure = df_agg.plot(title=title, grid=True).get_figure()\n",
    "        # save figure and dont show it\n",
    "        df_figure.savefig(output_folder / pl.Path(f'{mdf_file.stem}.png'), dpi=300)\n",
    "        # close figure\n",
    "        df_figure.clf()"
   ]
  }
 ],
 "metadata": {
  "kernelspec": {
   "display_name": "Python 3",
   "language": "python",
   "name": "python3"
  },
  "language_info": {
   "codemirror_mode": {
    "name": "ipython",
    "version": 3
   },
   "file_extension": ".py",
   "mimetype": "text/x-python",
   "name": "python",
   "nbconvert_exporter": "python",
   "pygments_lexer": "ipython3",
   "version": "3.11.3"
  },
  "orig_nbformat": 4
 },
 "nbformat": 4,
 "nbformat_minor": 2
}
