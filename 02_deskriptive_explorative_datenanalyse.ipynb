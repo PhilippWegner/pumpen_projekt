{
 "cells": [
  {
   "attachments": {},
   "cell_type": "markdown",
   "metadata": {},
   "source": [
    "### Deskriptive und Explorative Datenanalyse"
   ]
  },
  {
   "cell_type": "code",
   "execution_count": 1,
   "metadata": {},
   "outputs": [
    {
     "name": "stderr",
     "output_type": "stream",
     "text": [
      "ldf is not supported\n",
      "xls is not supported\n",
      "xlsx is not supported\n",
      "yaml is not supported\n"
     ]
    }
   ],
   "source": [
    "from enum import Enum\n",
    "import ipywidgets as widgets\n",
    "from pandas import read_csv\n",
    "import pandas as pd\n",
    "import asammdf\n",
    "from IPython.display import display\n",
    "import os\n",
    "import numpy as np\n",
    "import time\n",
    "import pathlib as pl"
   ]
  },
  {
   "cell_type": "code",
   "execution_count": 30,
   "metadata": {},
   "outputs": [],
   "source": [
    "# Setting up the global variables\n",
    "\n",
    "# PATH_RAW_DATA = \"../Messdaten\"\n",
    "PATH_RAW_DATA = r\"E:\\Messdaten\"\n",
    "PATH_FEATURE_DATA = \"./data/\"\n",
    "PATH_EXPLORATION_DATA = \"./exploration/\"\n",
    "PATH_MODEL = \"./models/\"\n",
    "DATA_SOURCE_KIDAQ = [\"TEST_NAME\", \"TEST_TYPE\", \"RPM\", \"FLOW_RATE\", \"P1\", \"P2\"]\n",
    "RAW_DATA_TYPE = [\"KIDAQ\", \"VIB\"]\n",
    "\n",
    "DATA_SOURCE_VID = [\n",
    "    \"TEST_NAME\",\n",
    "    \"TEST_TYPE\",\n",
    "    \"RPM\",\n",
    "    \"FLOW_RATE\",\n",
    "    \"S1\",\n",
    "    \"S2\",\n",
    "    \"S3\",\n",
    "    \"S4\",\n",
    "    \"S5\",\n",
    "    \"S6\",\n",
    "    \"S7\",\n",
    "    \"S8\",\n",
    "]\n",
    "FEATURE = [\n",
    "    \"STD\",\n",
    "    \"RANGE\",\n",
    "    \"IQR\",\n",
    "    \"MEAN_MEDIAN\",\n",
    "    \"FFT\",\n",
    "]\n",
    "OPERATING_POINT_FREQ = [725, 1450, 2175, 2900]\n",
    "OPERATING_POINT_FLOW_RATE = [0, 25, 50, 75, 100]\n",
    "\n",
    "PREPROCESSING_WINDOW_SIZE_MS_DEFAULT = 1000\n",
    "PREPROCESSING_WINDOW_SIZE_MS_MIN = 100\n",
    "PREPROCESSING_WINDOW_SIZE_MS_MAX = 10000\n",
    "\n",
    "PREPROCESSING_FREQUENCY_BAND_COUNT_DEFAULT = 10\n",
    "PREPROCESSING_FREQUENCY_BAND_COUNT_MIN = 10\n",
    "PREPROCESSING_FREQUENCY_BAND_COUNT_MAX = 100\n",
    "\n",
    "DEFAULT_RAW_DATA_TYPE = RAW_DATA_TYPE[0]\n",
    "DEFAULT_RAW_DATA = DATA_SOURCE_KIDAQ\n",
    "DEFAULT_SAMPLE_RATE = 10000\n",
    "\n",
    "DEFAULT_CLASS_LABEL = \"TEST_TYPE\"\n",
    "# 2021-04-28 - Gut 1, 2021-05-19 - Kavitation 1, 2021-05-26 - Fehlausrichtung 1, 2021-07-10 - Laufradschaden 1\n",
    "TEST_TYPES = [\"Gut\", \"Kavitation\", \"Fehlausrichtung\", \"Laufradschaden\"]\n",
    "TEST_TYPE_REGEX = r\"\\b(?:\" + \"|\".join(TEST_TYPES) + r\")\\b\"\n",
    "\n",
    "# ..\\Messdaten\\Setup-I\\2021-04-28 - Gut 1\\KiDAQ\\1450rpm\\1450rpm@100%.mf4\n",
    "TEST_NAME_REGEX = r\"\\d{4}-\\d{2}-\\d{2} - [\\w\\s]+\"\n",
    "\n",
    "KIDAQ_FILE_SEARCH_PATTERN = \"**/*.mf4\"  # 725rpm@0%.mf4\n",
    "KIDAQ_FILE_RPM_REGEX = r\"(\\d+)rpm\"\n",
    "KIDAQ_FILE_FLOW_RATE_REGEX = r\"(\\d+)%\"\n",
    "\n",
    "\n",
    "KIDAQ_DEFAULT_FEATURES = [\n",
    "    \"test_name\",\n",
    "    \"test_type\",\n",
    "    \"flow_rate\",\n",
    "    \"rpm\",\n",
    "    \"p1_std\",\n",
    "    \"p2_std\",\n",
    "    \"p1_range\",\n",
    "    \"p2_range\",\n",
    "    \"p1_iqr\",\n",
    "    \"p2_iqr\",\n",
    "    \"p1_mean_median\",\n",
    "    \"p2_mean_median\",\n",
    "]\n",
    "\n",
    "VIB_DEFAULT_FEATURES = [\n",
    "    \"test_name\",\n",
    "    \"test_type\",\n",
    "    \"flow_rate\",\n",
    "    \"rpm\",\n",
    "    \"s1_std\",\n",
    "    \"s2_std\",\n",
    "    \"s3_std\",\n",
    "    \"s4_std\",\n",
    "    \"s5_std\",\n",
    "    \"s6_std\",\n",
    "    \"s7_std\",\n",
    "    \"s8_std\",\n",
    "    \"s1_range\",\n",
    "    \"s2_range\",\n",
    "    \"s3_range\",\n",
    "    \"s4_range\",\n",
    "    \"s5_range\",\n",
    "    \"s6_range\", \n",
    "    \"s7_range\",\n",
    "    \"s8_range\",\n",
    "    \"s1_iqr\",\n",
    "    \"s2_iqr\",\n",
    "    \"s3_iqr\",\n",
    "    \"s4_iqr\",\n",
    "    \"s5_iqr\",\n",
    "    \"s6_iqr\",\n",
    "    \"s7_iqr\",\n",
    "    \"s8_iqr\",\n",
    "    \"s1_mean_median\",\n",
    "    \"s2_mean_median\",\n",
    "    \"s3_mean_median\",\n",
    "    \"s4_mean_median\",\n",
    "    \"s5_mean_median\",\n",
    "    \"s6_mean_median\",\n",
    "    \"s7_mean_median\",\n",
    "    \"s8_mean_median\"\n",
    "]\n",
    "    \n",
    "# 2900_25_1.mf4\n",
    "\n",
    "KIDAQ_FILE_FIX_REGEX = r\"(\\d+)_(\\d+)_(\\d+).mf4\"\n",
    "\n",
    "\n",
    "VIB_FILE_SEARCH_PATTERN = (\n",
    "    \"**/VIB*.csv\"  # 725rpm\\0%\\1\\VIB1 2021-05-03 10-58-02.453.519.300.csv\n",
    ")\n",
    "VIB_FILE_SENSOR_REGEX = r\"VIB(\\d+)\"\n",
    "VIB_FILE_RPM_REGEX = r\"(\\d+)rpm\"\n",
    "VIB_FILE_FLOW_RATE_REGEX = r\"(\\d+)%\"\n",
    "VIB_SENSOR_COUNT = 8\n",
    "\n",
    "\n",
    "DATANALYSIS_WINDOW_SIZE_DEFAULT = 100000\n",
    "DATANALYSIS_WINDOW_SIZE_MIN = 0\n",
    "DATANALYSIS_WINDOW_SIZE_MAX = 1000000\n",
    "\n",
    "DATANALYSIS_STEP_SIZE_DEFAULT = 100000\n",
    "DATANALYSIS_STEP_SIZE_MIN = 0\n",
    "DATANALYSIS_STEP_SIZE_MAX = 1000000"
   ]
  },
  {
   "cell_type": "code",
   "execution_count": 33,
   "metadata": {},
   "outputs": [
    {
     "data": {
      "application/vnd.jupyter.widget-view+json": {
       "model_id": "9666f5399ed0471fa6a919ffc233e2f0",
       "version_major": 2,
       "version_minor": 0
      },
      "text/plain": [
       "IntSlider(value=100000, description='Window size:', max=1000000)"
      ]
     },
     "metadata": {},
     "output_type": "display_data"
    },
    {
     "data": {
      "application/vnd.jupyter.widget-view+json": {
       "model_id": "ae4e116ff12042a2b1073a38c8e81ff9",
       "version_major": 2,
       "version_minor": 0
      },
      "text/plain": [
       "IntSlider(value=100000, description='Step size:', max=1000000)"
      ]
     },
     "metadata": {},
     "output_type": "display_data"
    },
    {
     "data": {
      "application/vnd.jupyter.widget-view+json": {
       "model_id": "80fbbbbca4194fe4bbb857c881eb0b78",
       "version_major": 2,
       "version_minor": 0
      },
      "text/plain": [
       "Dropdown(description='Setup:', options=('Setup-I', 'Setup-II'), value='Setup-I')"
      ]
     },
     "metadata": {},
     "output_type": "display_data"
    },
    {
     "data": {
      "application/vnd.jupyter.widget-view+json": {
       "model_id": "3f3586d8d94d464e9e95f7bcd93cebf0",
       "version_major": 2,
       "version_minor": 0
      },
      "text/plain": [
       "Dropdown(description='Series:', index=1, options=('2021-04-28 - Gut 1', '2021-04-30 - Gut 2', '2021-05-19 - Ka…"
      ]
     },
     "metadata": {},
     "output_type": "display_data"
    },
    {
     "data": {
      "application/vnd.jupyter.widget-view+json": {
       "model_id": "f0f4fb706faa420c9ffaec8f21bb150c",
       "version_major": 2,
       "version_minor": 0
      },
      "text/plain": [
       "Dropdown(description='Data source:', options=('KIDAQ', 'VIB'), value='KIDAQ')"
      ]
     },
     "metadata": {},
     "output_type": "display_data"
    },
    {
     "data": {
      "application/vnd.jupyter.widget-view+json": {
       "model_id": "8179fb1d2e4743979723dafc32a9ffcc",
       "version_major": 2,
       "version_minor": 0
      },
      "text/plain": [
       "Dropdown(description='File:', options=(WindowsPath('E:/Messdaten/Setup-I/2021-04-30 - Gut 2/KiDAQ/1450rpm/1450…"
      ]
     },
     "metadata": {},
     "output_type": "display_data"
    },
    {
     "data": {
      "application/vnd.jupyter.widget-view+json": {
       "model_id": "de81782c16df4a7a8e47be29b3d04f63",
       "version_major": 2,
       "version_minor": 0
      },
      "text/plain": [
       "Dropdown(description='Aggregation:', options=('median', 'std', 'min', 'max'), value='median')"
      ]
     },
     "metadata": {},
     "output_type": "display_data"
    },
    {
     "data": {
      "application/vnd.jupyter.widget-view+json": {
       "model_id": "5ed18fa61263445eabb3c69a33278f6b",
       "version_major": 2,
       "version_minor": 0
      },
      "text/plain": [
       "Button(button_style='success', description='Refresh columns', icon='refresh', style=ButtonStyle(), tooltip='Re…"
      ]
     },
     "metadata": {},
     "output_type": "display_data"
    },
    {
     "data": {
      "application/vnd.jupyter.widget-view+json": {
       "model_id": "5bcb7e12f26d4042912689c6936ca1be",
       "version_major": 2,
       "version_minor": 0
      },
      "text/plain": [
       "SelectMultiple(description='Columns:', options=(), value=())"
      ]
     },
     "metadata": {},
     "output_type": "display_data"
    },
    {
     "data": {
      "application/vnd.jupyter.widget-view+json": {
       "model_id": "d1d8e658a0384f68b12ee036120d449d",
       "version_major": 2,
       "version_minor": 0
      },
      "text/plain": [
       "Button(button_style='success', description='Plot', disabled=True, icon='check', style=ButtonStyle(), tooltip='…"
      ]
     },
     "metadata": {},
     "output_type": "display_data"
    }
   ],
   "source": [
    "windowSizeSlider = widgets.IntSlider(\n",
    "    value=DATANALYSIS_WINDOW_SIZE_DEFAULT,\n",
    "    min=DATANALYSIS_WINDOW_SIZE_MIN,\n",
    "    max=DATANALYSIS_WINDOW_SIZE_MAX,\n",
    "    description='Window size:'\n",
    ")\n",
    "display(windowSizeSlider)\n",
    "\n",
    "stepSizeSlider = widgets.IntSlider(\n",
    "    value=DATANALYSIS_STEP_SIZE_DEFAULT,\n",
    "    min=DATANALYSIS_STEP_SIZE_MIN,\n",
    "    max=DATANALYSIS_STEP_SIZE_MAX,\n",
    "    description='Step size:'\n",
    ")\n",
    "display(stepSizeSlider)\n",
    "\n",
    "\n",
    "setups = list(filter(lambda x: os.path.isdir(os.path.join(PATH_RAW_DATA, x)), os.listdir(PATH_RAW_DATA)))\n",
    "setupSelectionDropdown = widgets.Dropdown(\n",
    "    options=setups,\n",
    "    description='Setup:'\n",
    ")\n",
    "display(setupSelectionDropdown)\n",
    "\n",
    "\n",
    "# list all folder in the selected setup and order by name of folder\n",
    "seriesNames = sorted(list(filter(lambda x: os.path.isdir(os.path.join(PATH_RAW_DATA, setupSelectionDropdown.value, x)), os.listdir(os.path.join(PATH_RAW_DATA, setupSelectionDropdown.value)))))\n",
    "seriesDropdown = widgets.Dropdown(\n",
    "    options=seriesNames,\n",
    "    description='Series:',\n",
    "    value=seriesNames[1]\n",
    ")\n",
    "# if setupSelectionDropdown.value changes update seriesDropdown\n",
    "def updateSeriesDropdown(change):\n",
    "    seriesNames = sorted(list(filter(lambda x: os.path.isdir(os.path.join(PATH_RAW_DATA, setupSelectionDropdown.value, x)), os.listdir(os.path.join(PATH_RAW_DATA, setupSelectionDropdown.value)))))\n",
    "    seriesDropdown.options = seriesNames\n",
    "setupSelectionDropdown.observe(updateSeriesDropdown, names='value')\n",
    "display(seriesDropdown)\n",
    "\n",
    "\n",
    "dataSourceDropdown = widgets.Dropdown(\n",
    "    options=RAW_DATA_TYPE,\n",
    "    description='Data source:',\n",
    "    value=RAW_DATA_TYPE[0]\n",
    ")\n",
    "display(dataSourceDropdown)\n",
    "\n",
    "\n",
    "# create Pathlib Path to the selected series\n",
    "def createPathToSeries(setup, series):\n",
    "    return os.path.join(PATH_RAW_DATA, setup, series)\n",
    "\n",
    "# list all files in all subfolders of createPathToSeries if data source is KIDAQ file should end with .mf4 else with .csv use function createPathToSeries\n",
    "def listFilesInPath(path):\n",
    "    files = []\n",
    "    if dataSourceDropdown.value == 'KIDAQ':\n",
    "        for file in pl.Path(path).glob(KIDAQ_FILE_SEARCH_PATTERN):\n",
    "            # append full file path as string to files list\n",
    "            files.append(file) \n",
    "    else:\n",
    "        if path is None:\n",
    "            return []\n",
    "        for file in pl.Path(path).glob(VIB_FILE_SEARCH_PATTERN):\n",
    "            files.append(file)\n",
    "    return sorted(files)\n",
    "\n",
    "fileDropdown = widgets.Dropdown(\n",
    "    options=listFilesInPath(createPathToSeries(setupSelectionDropdown.value, seriesDropdown.value)),\n",
    "    description='File:'\n",
    ")\n",
    "# if one of the dropdowns changes update fileDropdown\n",
    "def updateFileDropdown(change):\n",
    "    fileDropdown.options = listFilesInPath(createPathToSeries(setupSelectionDropdown.value, seriesDropdown.value))\n",
    "setupSelectionDropdown.observe(updateFileDropdown, names='value')\n",
    "seriesDropdown.observe(updateFileDropdown, names='value')\n",
    "dataSourceDropdown.observe(updateFileDropdown, names='value')\n",
    "display(fileDropdown)\n",
    "\n",
    "\n",
    "aggregationDropdown = widgets.Dropdown(\n",
    "    options=['median', 'std', 'min', 'max'],\n",
    "    value='median',\n",
    "    description='Aggregation:',\n",
    "    disabled=False,\n",
    ")\n",
    "display(aggregationDropdown)\n",
    "\n",
    "# add button with refresh icon to refresh columns of the selected file\n",
    "refreshColumnsButton = widgets.Button(\n",
    "    description='Refresh columns',\n",
    "    disabled=False,\n",
    "    button_style='success', # 'success', 'info', 'warning', 'danger' or ''\n",
    "    tooltip='Refresh columns',\n",
    "    icon='refresh'\n",
    ")\n",
    "display(refreshColumnsButton)\n",
    "\n",
    "# read the selected file and return a pandas dataframe\n",
    "def readFile():\n",
    "    # check if path is not None return empty dataframe\n",
    "    if fileDropdown.value is None:\n",
    "        return pd.DataFrame()\n",
    "    if dataSourceDropdown.value == 'KIDAQ':\n",
    "        return asammdf.MDF(fileDropdown.value).to_dataframe()\n",
    "    elif dataSourceDropdown.value == 'VIB':\n",
    "        # return pd dataframe with only the first 2 columns delete the 3 row and set the second row as header\n",
    "        df = pd.read_csv(fileDropdown.value, sep=';', encoding = \"ISO-8859-1\", header=1, usecols=[0,1], low_memory=False)\n",
    "        # rename the first column to 'Timestamp [ns]'\n",
    "        df.rename(columns={df.columns[0]: 'Timestamp [ns]'}, inplace=True)\n",
    "        # delete the first row\n",
    "        df = df.iloc[1:]\n",
    "        # set the first column as index\n",
    "        df.set_index(df.columns[0], inplace=True)\n",
    "        # return the dataframe\n",
    "        return df\n",
    "        \n",
    "        \n",
    "\n",
    "# create a list of all columns of the selected file\n",
    "def getColumnsToList():\n",
    "    return list(readFile().columns.to_list())\n",
    "\n",
    "multiselectColumns = widgets.SelectMultiple(\n",
    "    options=[],\n",
    "    description='Columns:',\n",
    "    disabled=False\n",
    ")\n",
    "# if refreshColumnsButton is clicked update multiselectColumns\n",
    "def refreshColumnsButtonClicked(b):\n",
    "    multiselectColumns.options = getColumnsToList()\n",
    "refreshColumnsButton.on_click(refreshColumnsButtonClicked)\n",
    "# if one of the dropdowns changes update multiselectColumns to empty list\n",
    "def updateMultiselectColumns(change):\n",
    "    multiselectColumns.options = []\n",
    "setupSelectionDropdown.observe(updateMultiselectColumns, names='value')\n",
    "seriesDropdown.observe(updateMultiselectColumns, names='value')\n",
    "dataSourceDropdown.observe(updateMultiselectColumns, names='value')\n",
    "fileDropdown.observe(updateMultiselectColumns, names='value')\n",
    "display(multiselectColumns)\n",
    "\n",
    "def createPlot(columnTuple, aggregation, windowSize, stepSize, file):\n",
    "    columnList = list(columnTuple)\n",
    "    if len(columnList) == 0:\n",
    "        return\n",
    "    # if no columns are selected return\n",
    "    if len(columnList) == 0:\n",
    "        return\n",
    "    df = readFile()\n",
    "    # drop all columns that are not selected\n",
    "    df = df[columnList]\n",
    "    df_agg = df.rolling(\n",
    "        window=windowSize,\n",
    "        step=stepSize,\n",
    "    ).agg(aggregation)\n",
    "    # set title to the name of the selected file\n",
    "    title=file.name\n",
    "    # plot data\n",
    "    df_agg.plot(title=title, grid=True)\n",
    "\n",
    "# create button to plot the selected columns\n",
    "plotButton = widgets.Button(\n",
    "    description='Plot',\n",
    "    disabled=True,\n",
    "    button_style='success', # 'success', 'info', 'warning', 'danger' or ''\n",
    "    tooltip='Plot',\n",
    "    icon='check'\n",
    ")\n",
    "# if plotButton is clicked plot the selected columns\n",
    "def plotButtonClicked(b):\n",
    "    createPlot(multiselectColumns.value, aggregationDropdown.value, windowSizeSlider.value, stepSizeSlider.value, fileDropdown.value)\n",
    "plotButton.on_click(plotButtonClicked)\n",
    "# if no column is selected disable plotButton\n",
    "def updatePlotButton(change):\n",
    "    if len(multiselectColumns.value) == 0:\n",
    "        plotButton.disabled = True\n",
    "    else:\n",
    "        plotButton.disabled = False\n",
    "multiselectColumns.observe(updatePlotButton, names='value')\n",
    "display(plotButton)"
   ]
  }
 ],
 "metadata": {
  "kernelspec": {
   "display_name": "venv",
   "language": "python",
   "name": "python3"
  },
  "language_info": {
   "codemirror_mode": {
    "name": "ipython",
    "version": 3
   },
   "file_extension": ".py",
   "mimetype": "text/x-python",
   "name": "python",
   "nbconvert_exporter": "python",
   "pygments_lexer": "ipython3",
   "version": "3.11.3"
  },
  "orig_nbformat": 4
 },
 "nbformat": 4,
 "nbformat_minor": 2
}
