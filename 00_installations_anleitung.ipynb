{
 "cells": [
  {
   "attachments": {},
   "cell_type": "markdown",
   "metadata": {},
   "source": [
    "## Installationsanleitung\n",
    "1. Anleitung zur Installation von Anaconda, Python und JupyterLab\n",
    "2. Paket- und Dependency-Installation über Anaconda in der Konsole\n",
    "3. Verwendung von JupyterLab"
   ]
  },
  {
   "attachments": {},
   "cell_type": "markdown",
   "metadata": {},
   "source": [
    "___"
   ]
  },
  {
   "attachments": {},
   "cell_type": "markdown",
   "metadata": {},
   "source": [
    "## Anleitung zur Installation von Anaconda, Python und JupyterLab\n",
    "\n",
    "Anleitung zur Installation von Anaconda, Python und JupyterLab\n",
    "In dieser Anleitung werde ich Ihnen Schritt für Schritt erklären, wie Sie Anaconda, Python und JupyterLab richtig installieren können. Wir werden die Installation unter Windows durchführen.\n",
    "\n",
    "### Schritt 1: Herunterladen von Anaconda\n",
    "1. Öffnen Sie Ihren Webbrowser und gehen Sie zur offiziellen Anaconda-Website: https://www.anaconda.com/products/individual.\n",
    "2. Wählen Sie die Version von Anaconda aus, die Ihrem Betriebssystem entspricht (Windows).\n",
    "3. Klicken Sie auf den Download-Button und warten Sie, bis der Download abgeschlossen ist.\n",
    "\n",
    "### Schritt 2: Installation von Anaconda\n",
    "1. Navigieren Sie zum heruntergeladenen Anaconda-Installationsprogramm und starten Sie es.\n",
    "2. Befolgen Sie die Anweisungen des Installationsprogramms. Standardmäßig wird Anaconda in das Verzeichnis \"C:\\Anaconda\" installiert. Sie können jedoch einen anderen Installationsort auswählen, wenn Sie möchten.\n",
    "3. Stellen Sie sicher, dass die Option \"Add Anaconda to my PATH environment variable\" aktiviert ist. Dadurch wird Anaconda in Ihrem Systempfad hinzugefügt, sodass Sie es über die Befehlszeile aufrufen können.\n",
    "4. Klicken Sie auf \"Install\", um mit der Installation fortzufahren.\n",
    "5. Warten Sie, bis die Installation abgeschlossen ist. Dies kann einige Minuten dauern.\n",
    "\n",
    "### Schritt 3: Überprüfung der Installation von Anaconda\n",
    "1. Öffnen Sie das Startmenü und suchen Sie nach \"Anaconda Navigator\".\n",
    "2. Starten Sie den Anaconda Navigator aus den Suchergebnissen. Das Anaconda Navigator-Fenster wird geöffnet.\n",
    "3. Überprüfen Sie, ob der Anaconda Navigator erfolgreich gestartet wird. Wenn ja, ist die Installation von Anaconda abgeschlossen.\n",
    "\n",
    "### Schritt 4: Installation/Launch von JupyterLab\n",
    "1. Öffnen Sie den Anaconda Navigator.\n",
    "2. Im Anaconda Navigator-Fenster klicken Sie auf \"Home\" in der linken Seitenleiste.\n",
    "3. Klicken Sie auf den Button Install/Launch unter der Karte mit dem Namen JupyterLab.\n",
    "4. JupyterLab wird installiert/gestartet.\n",
    "5. JupyterLab sollte in Ihrem Standard-Webbrowser geöffnet werden.\n",
    "6. Überprüfen Sie, ob JupyterLab erfolgreich gestartet wird. Wenn ja, ist die Installation/Launch von JupyterLab abgeschlossen.\n",
    "\n",
    "### Schritt 5: Überprüfung der Python-Installation\n",
    "1. Öffnen Sie das Startmenü und suchen Sie nach \"Anaconda Prompt\".\n",
    "2. Starten Sie die Anaconda Prompt aus den Suchergebnissen. Das Anaconda Prompt-Fenster wird geöffnet.\n",
    "3. Geben Sie den folgenden Befehl ein und drücken Sie die Eingabetaste, um die Python-Version anzuzeigen: \n",
    "```bash\n",
    "python --version\n",
    "```\n",
    "4. Überprüfen Sie, ob die installierte Python-Version angezeigt wird. Wenn ja, ist die Installation von Python erfolgreich abgeschlossen.\n"
   ]
  },
  {
   "attachments": {},
   "cell_type": "markdown",
   "metadata": {},
   "source": [
    "___"
   ]
  },
  {
   "attachments": {},
   "cell_type": "markdown",
   "metadata": {},
   "source": [
    "### Paket- und Dependency-Installation über Anaconda in der Konsole\n",
    "1. Öffnen Sie das Startmenü und suchen Sie nach \"Anaconda Prompt\".\n",
    "2. Starten Sie die Anaconda Prompt aus den Suchergebnissen. Das Anaconda Prompt-Fenster wird geöffnet.\n",
    "3. Installieren Sie ein Paket oder eine Dependency, indem Sie den folgenden Befehl eingeben:\n",
    "```bash\n",
    "conda install paketname\n",
    "```\n",
    "\n",
    "Ersetzen Sie `paketname` durch den Namen des Pakets oder der Dependency, die Sie installieren möchten. Sie können auch mehrere Paketnamen angeben, indem Sie sie durch Leerzeichen trennen.\n",
    "\n",
    "4. Warten Sie, bis die Installation abgeschlossen ist. Anaconda wird automatisch alle benötigten Abhängigkeiten herunterladen und installieren.\n",
    "5. Überprüfen Sie, ob die Installation erfolgreich war, indem Sie das Paket oder die Dependency verwenden oder den folgenden Befehl ausführen, um eine Liste der installierten Pakete anzuzeigen:\n",
    "```bash\n",
    "conda list\n",
    "```\n",
    "Dadurch wird eine Liste aller installierten Pakete in der aktuellen Umgebung angezeigt.\n",
    "\n",
    "8. Wiederholen Sie die Schritte 3-5 für alle weiteren Pakete oder Dependencies, die Sie installieren möchten.\n",
    "9. Wenn Sie die Installation beendet haben, können Sie die Anaconda Prompt schließen oder mit weiteren Befehlen und Aktionen fortfahren."
   ]
  },
  {
   "attachments": {},
   "cell_type": "markdown",
   "metadata": {},
   "source": [
    "___"
   ]
  },
  {
   "attachments": {},
   "cell_type": "markdown",
   "metadata": {},
   "source": [
    "### Verwendung von JupyterLab\n",
    "\n",
    "1. Öffnen Sie das Startmenü und suchen Sie nach \"Anaconda Navigator\".\n",
    "\n",
    "2. Starten Sie den Anaconda Navigator aus den Suchergebnissen. Das Anaconda Navigator-Fenster wird geöffnet.\n",
    "\n",
    "3. Klicken Sie auf das Symbol für JupyterLab. Dadurch wird ein neues Browserfenster geöffnet, das die JupyterLab-Benutzeroberfläche anzeigt.\n",
    "\n",
    "4. In der JupyterLab-Benutzeroberfläche können Sie entweder eine neue Datei erstellen oder vorhandene Dateien öffnen.\n",
    "\n",
    "   - Um eine neue Datei zu erstellen, klicken Sie auf das \"+\" -Symbol in der Symbolleiste und wählen Sie den gewünschten Dateityp, z. B. \"Python 3\". Dadurch wird eine neue Datei geöffnet.\n",
    "\n",
    "   - Um eine vorhandene Datei zu öffnen, klicken Sie auf \"File\" in der Menüleiste und wählen Sie \"Open\" aus. Navigieren Sie zum Speicherort der Datei auf Ihrem Computer und wählen Sie sie aus. Die Datei wird in einem neuen Tab geöffnet.\n",
    "\n",
    "5. Jeder geöffnete Tab enthält eine Arbeitsfläche, in der Sie Code schreiben, Dateien anzeigen und bearbeiten, sowie andere Aktionen durchführen können.\n",
    "\n",
    "6. JupyterLab bietet verschiedene Arten von Dokumenten, die Sie in der Arbeitsfläche verwenden können:\n",
    "\n",
    "   - Jupyter Notebook: Sie können Jupyter Notebook-Dateien (.ipynb) öffnen und bearbeiten. Diese Dateien bestehen aus Zellen, die Code, Text oder Markdown enthalten können.\n",
    "\n",
    "   - Texteditor: Sie können Textdateien (.txt), Python-Skripte (.py) und andere Textdateiformate anzeigen und bearbeiten.\n",
    "\n",
    "   - Terminal: Sie können eine Befehlszeilenschnittstelle öffnen und Befehle direkt in JupyterLab ausführen.\n",
    "\n",
    "7. Jeder Tab enthält eine Symbolleiste mit verschiedenen Optionen, um Aktionen wie das Ausführen von Code, das Hinzufügen neuer Zellen, das Speichern von Dateien und vieles mehr durchzuführen.\n",
    "\n",
    "8. JupyterLab bietet auch eine Vielzahl von Tastenkombinationen, die Ihnen helfen können, schneller zu arbeiten. Sie können auf \"Help\" in der Menüleiste klicken und dann \"Keyboard Shortcuts\" auswählen, um eine Liste der verfügbaren Tastenkombinationen anzuzeigen.\n",
    "\n",
    "9. Um JupyterLab zu beenden, können Sie das Browserfenster schließen oder zur JupyterLab-Benutzeroberfläche zurückkehren und auf \"File\" in der Menüleiste klicken, gefolgt von \"Quit\".\n"
   ]
  }
 ],
 "metadata": {
  "language_info": {
   "name": "python"
  },
  "orig_nbformat": 4
 },
 "nbformat": 4,
 "nbformat_minor": 2
}
