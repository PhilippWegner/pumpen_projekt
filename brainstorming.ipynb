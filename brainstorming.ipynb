{
 "cells": [
  {
   "attachments": {},
   "cell_type": "markdown",
   "id": "d5a94bd2-a922-4b01-a9b9-7658e41f6036",
   "metadata": {},
   "source": [
    "# Aufbau der Notebooks [Philipp]\n",
    "- Multivalue bei Notebooks angucken \n",
    "- Wie installiere ich den \"scheiß\""
   ]
  },
  {
   "attachments": {},
   "cell_type": "markdown",
   "id": "d08d88a7-0fc1-4c7a-91f7-df5aa0a4f9a2",
   "metadata": {},
   "source": [
    "## 1. Aufgabe und Daten erklären/beschreiben [Philipp]"
   ]
  },
  {
   "attachments": {},
   "cell_type": "markdown",
   "id": "d64265c3-afa2-4d11-8139-119392b3a46e",
   "metadata": {},
   "source": [
    "## 2. Beschreibung Rohdatenstruktur"
   ]
  },
  {
   "attachments": {},
   "cell_type": "markdown",
   "id": "6efc6220-a14b-4ff0-b0d8-66ba17569050",
   "metadata": {},
   "source": [
    "## 3. Preprocessing [Valerij]\n",
    "- Auswahl der Fenstergröße in Millisekunden\n",
    "- Multi-Selektion der Aggregation (avg, mean, std, ...)\n",
    "- Frequenzanalyse\n",
    "- Fourier-Transformation\n",
    "- Fenstergröße nach Frequenzbereichen"
   ]
  },
  {
   "attachments": {},
   "cell_type": "markdown",
   "id": "b8ed0170-f3d5-4287-8dd8-7439080d27af",
   "metadata": {},
   "source": [
    "### 4. Deskriptive/Explorative Datenanalyse [Philipp]\n",
    "- Plots\n",
    "- Beschreibung der Plots"
   ]
  },
  {
   "attachments": {},
   "cell_type": "markdown",
   "id": "4b92fefe-672c-4bba-97c1-f78747ff1dc1",
   "metadata": {},
   "source": [
    "### 5. Machine Learning [Valerij]\n",
    "Multi-Selektion für:\n",
    "- die unterschiedlichen Features\n",
    "- Auswahl der Featuredateien (Testdaten)\n",
    "- Auswahl des Learners\n",
    "- Konfiguration der Hyperparameter\n",
    "- Live-Validation des Models mit vorausgewählten Testdaten (Random-Search, ...)"
   ]
  },
  {
   "attachments": {},
   "cell_type": "markdown",
   "id": "615dfc90-2798-42fe-8001-7be9ea78aa35",
   "metadata": {},
   "source": [
    "### 6. Modelanalyse des Learners [Kevin]\n",
    "- Vorherige Auswahl eines Learners\n",
    "- Feature Importance\n",
    "- Korrelationsmatrix\n",
    "- Konfusionsmatrix\n",
    "- Post-Validation des Models mit auswählbaren Daten"
   ]
  },
  {
   "attachments": {},
   "cell_type": "markdown",
   "id": "390a4a00-cdc0-4fae-bd1f-e92cd875dec1",
   "metadata": {},
   "source": [
    "### 7. Statische Interpretation des Resultats\n",
    "- Welches Ergebnis haben wir erzielt und wie kann man es anwenden?"
   ]
  },
  {
   "cell_type": "code",
   "execution_count": null,
   "id": "213a0aef-ff47-4359-ab13-8886e73e6bf8",
   "metadata": {},
   "outputs": [],
   "source": []
  }
 ],
 "metadata": {
  "kernelspec": {
   "display_name": "Python 3",
   "language": "python",
   "name": "python3"
  },
  "language_info": {
   "codemirror_mode": {
    "name": "ipython",
    "version": 3
   },
   "file_extension": ".py",
   "mimetype": "text/x-python",
   "name": "python",
   "nbconvert_exporter": "python",
   "pygments_lexer": "ipython3",
   "version": "3.11.3"
  }
 },
 "nbformat": 4,
 "nbformat_minor": 5
}
