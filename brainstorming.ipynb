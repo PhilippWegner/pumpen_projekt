{
 "cells": [
  {
   "attachments": {},
   "cell_type": "markdown",
   "id": "d5a94bd2-a922-4b01-a9b9-7658e41f6036",
   "metadata": {},
   "source": [
    "# Aufbau der Notebooks [Philipp]\n",
    "\n",
    "- Multivalue bei Notebooks angucken\n",
    "- Wie installiere ich den \"scheiß\"\n",
    "- Widgets: https://ipywidgets.readthedocs.io/en/stable/examples/Widget%20List.html\n"
   ]
  },
  {
   "cell_type": "code",
   "execution_count": 3,
   "id": "268ea6b8",
   "metadata": {},
   "outputs": [
    {
     "name": "stdout",
     "output_type": "stream",
     "text": [
      "8.0.6\n"
     ]
    },
    {
     "data": {
      "application/vnd.jupyter.widget-view+json": {
       "model_id": "7d4d78646c584ba4bfaec45150deb988",
       "version_major": 2,
       "version_minor": 0
      },
      "text/plain": [
       "TagsInput(value=['TEST_NAME', 'TEST_TYPE', 'RPM', 'FLOW_RATE', 'P1', 'P2'], allow_duplicates=False, allowed_ta…"
      ]
     },
     "execution_count": 3,
     "metadata": {},
     "output_type": "execute_result"
    }
   ],
   "source": [
    "# Globals\n",
    "from enum import Enum\n",
    "import ipywidgets as widgets\n",
    "\n",
    "PATH_RAW_DATA = \"./raw/\"\n",
    "PATH_FEATURE_DATA = \"./features/\"\n",
    "PATH_EXPLORATION_DATA = \"./exploration/\"\n",
    "PATH_MODEL = \"./model/\"\n",
    "DATA_SOURCE_KIDAQ = [\n",
    "        \"TEST_NAME\", \"TEST_TYPE\", \"RPM\", \"FLOW_RATE\", \"P1\", \"P2\"\n",
    "    ]\n",
    "\n",
    "DATA_SOURCE_VID = [\"TEST_NAME\",\"TEST_TYPE\",\n",
    "    \"RPM\",\n",
    "    \"FLOW_RATE\",\n",
    "    \"S1\",\n",
    "    \"S2\",\n",
    "    \"S3\",\n",
    "    \"S4\",\n",
    "    \"S5\",\n",
    "    \"S6\",\n",
    "    \"S7\",\n",
    "    \"S8\"]\n",
    "FEATURE = [\n",
    "        \"STD\",\n",
    "        \"RANGE\",\n",
    "        \"IQR\",\n",
    "        \"MEAN_MEDIAN\",\n",
    "        \"FFT\",\n",
    "    ]\n",
    "OPERATING_POINT_FREQ = [\"RPM725\", \"RPM1450\", \"RPM2175\", \"RPM2900\"]\n",
    "OPERATING_POINT_FLOW_RATE = [\"PCT0\", \"PCT25\", \"PCT50\", \"PCT75\", \"PCT100\"]\n",
    "\n",
    "LEARNER = Enum(\"LEARNER\", [\"DNN\", \"DT\"])\n",
    "\n",
    "DEFAULT_LEARNER = LEARNER.DNN\n",
    "DEFAULT_RAW_DATA = DATA_SOURCE_KIDAQ\n",
    "print(widgets.__version__)\n",
    "tags = widgets.TagsInput(\n",
    "    value=DEFAULT_RAW_DATA,\n",
    "    allowed_tags=DEFAULT_RAW_DATA,\n",
    "    allow_duplicates=False\n",
    ")\n",
    "tags\n"
   ]
  },
  {
   "attachments": {},
   "cell_type": "markdown",
   "id": "d08d88a7-0fc1-4c7a-91f7-df5aa0a4f9a2",
   "metadata": {},
   "source": [
    "## 1. Aufgabe und Daten erklären/beschreiben [Philipp]\n"
   ]
  },
  {
   "attachments": {},
   "cell_type": "markdown",
   "id": "6efc6220-a14b-4ff0-b0d8-66ba17569050",
   "metadata": {},
   "source": [
    "## 3. Preprocessing [Valerij]\n",
    "\n",
    "- Auswahl der Fenstergröße in Millisekunden\n",
    "- Multi-Selektion der Aggregation (avg, mean, std, ...)\n",
    "- Frequenzanalyse\n",
    "- Fourier-Transformation\n",
    "- Fenstergröße nach Frequenzbereichen\n"
   ]
  },
  {
   "attachments": {},
   "cell_type": "markdown",
   "id": "b8ed0170-f3d5-4287-8dd8-7439080d27af",
   "metadata": {},
   "source": [
    "### 4. Deskriptive/Explorative Datenanalyse [Philipp]\n",
    "\n",
    "- Plots\n",
    "- Beschreibung der Plots\n"
   ]
  },
  {
   "attachments": {},
   "cell_type": "markdown",
   "id": "4b92fefe-672c-4bba-97c1-f78747ff1dc1",
   "metadata": {},
   "source": [
    "### 5. Machine Learning [Kevin]\n",
    "\n",
    "Multi-Selektion für:\n",
    "\n",
    "- die unterschiedlichen Features\n",
    "- Auswahl der Featuredateien (Testdaten)\n",
    "- Auswahl des Learners\n",
    "- Konfiguration der Hyperparameter\n",
    "- Live-Validation des Models mit vorausgewählten Testdaten (Random-Search, ...)\n"
   ]
  },
  {
   "cell_type": "code",
   "execution_count": 5,
   "id": "5e8f18d7",
   "metadata": {},
   "outputs": [],
   "source": [
    "FEATURE_TRAIN_FILE = \"train.csv\"\n",
    "FEATURE_TEST_FILE = \"test.csv\"\n",
    "\n",
    "DEFAULT_OPERATING_POINTS = OPERATING_POINT_FREQ + OPERATING_POINT_FLOW_RATE\n",
    "\n",
    "\n",
    "# DNN\n",
    "DNN_EXPLORATION_TARGET_VAL_ACCURACY = 0.9\n",
    "DNN_EXPLORATION_MAX_ITER = 100\n",
    "DNN_EXPLORATION_HIDDEN_LAYERS_MIN = 2\n",
    "DNN_EXPLORATION_HIDDEN_LAYERS_MAX = 4\n",
    "DNN_EXPLORATION_HIDDEN_UNITS_MIN = 8\n",
    "DNN_EXPLORATION_HIDDEN_UNITS_MAX = 64\n",
    "\n",
    "\n",
    "DNN_EARLY_STOPPING_PATIENCE = 50\n",
    "DNN_VERBOSE = 0\n",
    "DNN_EPOCHS = 100\n",
    "DNN_BATCH_SIZE = 32\n",
    "DNN_BATCH_NORMALIZATION = True\n",
    "\n",
    "\n",
    "# DT\n",
    "DT_MAX_DEPTH = 6\n",
    "DT_NUM_ESTIMATORS = 100\n",
    "\n"
   ]
  },
  {
   "attachments": {},
   "cell_type": "markdown",
   "id": "615dfc90-2798-42fe-8001-7be9ea78aa35",
   "metadata": {},
   "source": [
    "### 5. Modelanalyse des Learners [Kevin]\n",
    "\n",
    "- Vorherige Auswahl eines Learners\n",
    "- Feature Importance\n",
    "- Korrelationsmatrix\n",
    "- Konfusionsmatrix\n",
    "- Post-Validation des Models mit auswählbaren Daten\n"
   ]
  },
  {
   "attachments": {},
   "cell_type": "markdown",
   "id": "390a4a00-cdc0-4fae-bd1f-e92cd875dec1",
   "metadata": {},
   "source": [
    "### 6. Statische Interpretation des Resultats\n",
    "\n",
    "- Welches Ergebnis haben wir erzielt und wie kann man es anwenden?\n"
   ]
  }
 ],
 "metadata": {
  "kernelspec": {
   "display_name": "Python 3",
   "language": "python",
   "name": "python3"
  },
  "language_info": {
   "codemirror_mode": {
    "name": "ipython",
    "version": 3
   },
   "file_extension": ".py",
   "mimetype": "text/x-python",
   "name": "python",
   "nbconvert_exporter": "python",
   "pygments_lexer": "ipython3",
   "version": "3.10.9"
  }
 },
 "nbformat": 4,
 "nbformat_minor": 5
}
