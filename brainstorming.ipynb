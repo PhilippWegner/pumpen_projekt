{
 "cells": [
  {
   "cell_type": "markdown",
   "id": "d5a94bd2-a922-4b01-a9b9-7658e41f6036",
   "metadata": {},
   "source": [
    "# Aufbau der Notebooks [Philipp]\n",
    "- Multivalue bei Notebooks angucken \n",
    "- Wie installiere ich den \"scheiß\""
   ]
  },
  {
   "cell_type": "code",
   "execution_count": null,
   "id": "268ea6b8",
   "metadata": {},
   "outputs": [],
   "source": [
    "# Globals\n",
    "from enum import Enum\n",
    "\n",
    "PATH_RAW_DATA = \"./raw/\"\n",
    "PATH_FEATURE_DATA = \"./features/\"\n",
    "PATH_EXPLORATION_DATA = \"./exploration/\"\n",
    "PATH_MODEL = \"./model/\"\n",
    "DATA_SOURCE = Enum(\"DATA_SOURCE\", [\"KIDAQ\", \"VIB\"])\n",
    "FEATURE = Enum(\n",
    "    \"FEATURE\",\n",
    "    [\n",
    "        Enum(\n",
    "            DATA_SOURCE.KIDAQ,\n",
    "            [\n",
    "                \"RPM\",\n",
    "                \"POWER\",\n",
    "                \"P1_STD\",\n",
    "                \"P2_STD\",\n",
    "                \"P_DIFF_STD\",\n",
    "                \"P1_RANGE\",\n",
    "                \"P2_RANGE\",\n",
    "                \"P_DIFF_RANGE\",\n",
    "                \"P1_IQR\",\n",
    "                \"P2_IQR\",\n",
    "                \"P_DIFF_IQR\",\n",
    "                \"P1_MEAN_MEDIAN\",\n",
    "                \"P2_MEAN_MEDIAN\",\n",
    "                \"P_DIFF_MEAN_MEDIA\",\n",
    "                \"P1_FFT\",\n",
    "                \"P2_FFT\",\n",
    "                \"P_DIFF_FFT\",\n",
    "            ],\n",
    "        ),\n",
    "        Enum(\n",
    "            DATA_SOURCE.VIB,\n",
    "            [\n",
    "                \"RPM\",\n",
    "                \"POWER\",\n",
    "                \"S1_RANGE\",\n",
    "                \"S2_RANGE\",\n",
    "                \"S3_RANGE\",\n",
    "                \"S4_RANGE\",\n",
    "                \"S5_RANGE\",\n",
    "                \"S6_RANGE\",\n",
    "                \"S7_RANGE\",\n",
    "                \"S8_RANGE\",\n",
    "                \"S1_STD\",\n",
    "                \"S2_STD\",\n",
    "                \"S3_STD\",\n",
    "                \"S4_STD\",\n",
    "                \"S5_STD\",\n",
    "                \"S6_STD\",\n",
    "                \"S7_STD\",\n",
    "                \"S8_STD\",\n",
    "                \"S1_IQR\",\n",
    "                \"S2_IQR\",\n",
    "                \"S3_IQR\",\n",
    "                \"S4_IQR\",\n",
    "                \"S5_IQR\",\n",
    "                \"S6_IQR\",\n",
    "                \"S7_IQR\",\n",
    "                \"S8_IQR\",\n",
    "                \"S1_MEAN_MEDIAN\",\n",
    "                \"S2_MEAN_MEDIAN\",\n",
    "                \"S3_MEAN_MEDIAN\",\n",
    "                \"S4_MEAN_MEDIAN\",\n",
    "                \"S5_MEAN_MEDIAN\",\n",
    "                \"S6_MEAN_MEDIAN\",\n",
    "                \"S7_MEAN_MEDIAN\",\n",
    "                \"S8_MEAN_MEDIAN\",\n",
    "                \"S1_FFT\",\n",
    "                \"S2_FFT\",\n",
    "                \"S3_FFT\",\n",
    "                \"S4_FFT\",\n",
    "                \"S5_FFT\",\n",
    "                \"S6_FFT\",\n",
    "                \"S7_FFT\",\n",
    "                \"S8_FFT\",\n",
    "            ],\n",
    "        ),\n",
    "    ],\n",
    ")\n",
    "OPERATING_POINT_FREQ = Enum(\n",
    "    \"OPERATING_POINT_RPM\", [\"RPM725\", \"RPM1450\", \"RPM2175\", \"RPM2900\"]\n",
    ")\n",
    "OPERATING_POINT_FLOW = Enum(\n",
    "    \"OPERATING_POINT_FLOW_RATE\", [\"PCT0\", \"PCT25\", \"PCT50\", \"PCT75\", \"PCT100\"]\n",
    ")\n",
    "LEARNER = Enum(\"LEARNER\", [\"DNN\", \"DT\"])\n",
    "\n",
    "DEFAULT_LEARNER = LEARNER.DNN\n",
    "DEFAULT_RAW_DATA = FEATURE.DATA_SOURCE.KIDAQ"
   ]
  },
  {
   "cell_type": "markdown",
   "id": "d08d88a7-0fc1-4c7a-91f7-df5aa0a4f9a2",
   "metadata": {},
   "source": [
    "## 1. Aufgabe und Daten erklären/beschreiben [Philipp]"
   ]
  },
  {
   "cell_type": "markdown",
   "id": "6efc6220-a14b-4ff0-b0d8-66ba17569050",
   "metadata": {},
   "source": [
    "## 3. Preprocessing [Valerij]\n",
    "- Auswahl der Fenstergröße in Millisekunden\n",
    "- Multi-Selektion der Aggregation (avg, mean, std, ...)\n",
    "- Frequenzanalyse\n",
    "- Fourier-Transformation\n",
    "- Fenstergröße nach Frequenzbereichen"
   ]
  },
  {
   "cell_type": "markdown",
   "id": "b8ed0170-f3d5-4287-8dd8-7439080d27af",
   "metadata": {},
   "source": [
    "### 4. Deskriptive/Explorative Datenanalyse [Philipp]\n",
    "- Plots\n",
    "- Beschreibung der Plots"
   ]
  },
  {
   "attachments": {},
   "cell_type": "markdown",
   "id": "4b92fefe-672c-4bba-97c1-f78747ff1dc1",
   "metadata": {},
   "source": [
    "### 5. Machine Learning [Kevin]\n",
    "Multi-Selektion für:\n",
    "- die unterschiedlichen Features\n",
    "- Auswahl der Featuredateien (Testdaten)\n",
    "- Auswahl des Learners\n",
    "- Konfiguration der Hyperparameter\n",
    "- Live-Validation des Models mit vorausgewählten Testdaten (Random-Search, ...)"
   ]
  },
  {
   "cell_type": "code",
   "execution_count": null,
   "id": "5e8f18d7",
   "metadata": {},
   "outputs": [],
   "source": [
    "FEATURE_TRAIN_FILE = \"train.csv\"\n",
    "FEATURE_TEST_FILE = \"test.csv\"\n",
    "\n",
    "DEFAULT_OPERATING_POINTS = [\n",
    "    OPERATING_POINT_FREQ.RPM725,\n",
    "    OPERATING_POINT_FREQ.RPM1450,\n",
    "    OPERATING_POINT_FREQ.RPM2175,\n",
    "    OPERATING_POINT_FREQ.RPM2900,\n",
    "    OPERATING_POINT_FLOW.PCT0,\n",
    "    OPERATING_POINT_FLOW.PCT25,\n",
    "    OPERATING_POINT_FLOW.PCT50,\n",
    "    OPERATING_POINT_FLOW.PCT75,\n",
    "    OPERATING_POINT_FLOW.PCT100\n",
    "]\n",
    "\n",
    "\n",
    "# DNN\n",
    "DNN_EXPLORATION_TARGET_VAL_ACCURACY = 0.9\n",
    "DNN_EXPLORATION_MAX_ITER = 100\n",
    "DNN_EXPLORATION_HIDDEN_LAYERS_MIN = 2\n",
    "DNN_EXPLORATION_HIDDEN_LAYERS_MAX = 4\n",
    "DNN_EXPLORATION_HIDDEN_UNITS_MIN = 8\n",
    "DNN_EXPLORATION_HIDDEN_UNITS_MAX = 64\n",
    "\n",
    "\n",
    "DNN_EARLY_STOPPING_PATIENCE = 50\n",
    "DNN_VERBOSE = 0\n",
    "DNN_EPOCHS = 100\n",
    "DNN_BATCH_SIZE = 32\n",
    "DNN_BATCH_NORMALIZATION = True\n",
    "\n",
    "\n",
    "# DT\n",
    "DT_MAX_DEPTH = 6\n",
    "DT_NUM_ESTIMATORS = 100"
   ]
  },
  {
   "cell_type": "markdown",
   "id": "615dfc90-2798-42fe-8001-7be9ea78aa35",
   "metadata": {},
   "source": [
    "### 5. Modelanalyse des Learners [Kevin]\n",
    "- Vorherige Auswahl eines Learners\n",
    "- Feature Importance\n",
    "- Korrelationsmatrix\n",
    "- Konfusionsmatrix\n",
    "- Post-Validation des Models mit auswählbaren Daten"
   ]
  },
  {
   "cell_type": "markdown",
   "id": "390a4a00-cdc0-4fae-bd1f-e92cd875dec1",
   "metadata": {},
   "source": [
    "### 6. Statische Interpretation des Resultats\n",
    "- Welches Ergebnis haben wir erzielt und wie kann man es anwenden?"
   ]
  },
  {
   "cell_type": "code",
   "execution_count": null,
   "id": "213a0aef-ff47-4359-ab13-8886e73e6bf8",
   "metadata": {},
   "outputs": [],
   "source": []
  }
 ],
 "metadata": {
  "kernelspec": {
   "display_name": "Python 3",
   "language": "python",
   "name": "python3"
  },
  "language_info": {
   "codemirror_mode": {
    "name": "ipython",
    "version": 3
   },
   "file_extension": ".py",
   "mimetype": "text/x-python",
   "name": "python",
   "nbconvert_exporter": "python",
   "pygments_lexer": "ipython3",
   "version": "3.8.8"
  }
 },
 "nbformat": 4,
 "nbformat_minor": 5
}
