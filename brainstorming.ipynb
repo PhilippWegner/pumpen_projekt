{
 "cells": [
  {
   "attachments": {},
   "cell_type": "markdown",
   "id": "d5a94bd2-a922-4b01-a9b9-7658e41f6036",
   "metadata": {},
   "source": [
    "# Aufbau der Notebooks [Philipp]\n",
    "\n",
    "- Multivalue bei Notebooks angucken\n",
    "- Wie installiere ich den \"scheiß\"\n",
    "- Widgets: https://ipywidgets.readthedocs.io/en/stable/examples/Widget%20List.html\n"
   ]
  },
  {
   "cell_type": "code",
   "execution_count": 63,
   "id": "d3394772",
   "metadata": {},
   "outputs": [],
   "source": [
    "# Importing libraries\n",
    "from enum import Enum\n",
    "import ipywidgets as widgets\n",
    "from pandas import read_csv\n",
    "import os\n",
    "import numpy as np\n",
    "import time"
   ]
  },
  {
   "cell_type": "code",
   "execution_count": 64,
   "id": "268ea6b8",
   "metadata": {},
   "outputs": [
    {
     "data": {
      "application/vnd.jupyter.widget-view+json": {
       "model_id": "5777729415f842e4afb625bd35bb1a71",
       "version_major": 2,
       "version_minor": 0
      },
      "text/plain": [
       "TagsInput(value=['TEST_NAME', 'TEST_TYPE', 'RPM', 'FLOW_RATE', 'P1', 'P2'], allow_duplicates=False, allowed_ta…"
      ]
     },
     "metadata": {},
     "output_type": "display_data"
    }
   ],
   "source": [
    "# Setting up the global variables\n",
    "\n",
    "PATH_RAW_DATA = \"./data/raw/\"\n",
    "PATH_FEATURE_DATA = \"./data/\"\n",
    "PATH_EXPLORATION_DATA = \"./exploration/\"\n",
    "PATH_MODEL = \"./models/\"\n",
    "DATA_SOURCE_KIDAQ = [\"TEST_NAME\", \"TEST_TYPE\", \"RPM\", \"FLOW_RATE\", \"P1\", \"P2\"]\n",
    "RAW_DATA_TYPE = [\"KIDAQ\", \"VIB\"]\n",
    "\n",
    "DATA_SOURCE_VID = [\n",
    "    \"TEST_NAME\",\n",
    "    \"TEST_TYPE\",\n",
    "    \"RPM\",\n",
    "    \"FLOW_RATE\",\n",
    "    \"S1\",\n",
    "    \"S2\",\n",
    "    \"S3\",\n",
    "    \"S4\",\n",
    "    \"S5\",\n",
    "    \"S6\",\n",
    "    \"S7\",\n",
    "    \"S8\",\n",
    "]\n",
    "FEATURE = [\n",
    "    \"STD\",\n",
    "    \"RANGE\",\n",
    "    \"IQR\",\n",
    "    \"MEAN_MEDIAN\",\n",
    "    \"FFT\",\n",
    "]\n",
    "OPERATING_POINT_FREQ = [725, 1450, 2175, 2900]\n",
    "OPERATING_POINT_FLOW_RATE = [0, 25, 50, 75, 100]\n",
    "\n",
    "DEFAULT_RAW_DATA_TYPE = RAW_DATA_TYPE[1]\n",
    "DEFAULT_RAW_DATA = DATA_SOURCE_KIDAQ\n",
    "\n",
    "DEFAULT_CLASS_LABEL = \"TEST_TYPE\"\n",
    "\n",
    "tags = widgets.TagsInput(\n",
    "    value=DEFAULT_RAW_DATA, allowed_tags=DEFAULT_RAW_DATA, allow_duplicates=False\n",
    ")\n",
    "display(tags)"
   ]
  },
  {
   "attachments": {},
   "cell_type": "markdown",
   "id": "d08d88a7-0fc1-4c7a-91f7-df5aa0a4f9a2",
   "metadata": {},
   "source": [
    "## 1. Aufgabe und Daten erklären/beschreiben [Philipp]\n"
   ]
  },
  {
   "attachments": {},
   "cell_type": "markdown",
   "id": "6efc6220-a14b-4ff0-b0d8-66ba17569050",
   "metadata": {},
   "source": [
    "## 3. Preprocessing [Valerij]\n",
    "\n",
    "Aufgeteilt nach KIDAQ und VIB (separat um es einfach zu halten)\n",
    "\n",
    "- Auswahl der Fenstergröße in Millisekunden\n",
    "- Auswahl der Abtastrate\n",
    "- Multi-Selektion der Aggregation (avg, mean, std, ...)\n",
    "- Frequenzanalyse\n",
    "- Fourier-Transformation\n",
    "- Fenstergröße nach Frequenzbereichen\n",
    "\n",
    "### 3.1 Vorbereitung der Tainings- und Testdaten\n",
    "\n",
    "Multi-Selektion für:\n",
    "\n",
    "- Features\n",
    "- Betriebspunkte (RPM/FLOWRATE)\n",
    "- Klassifikationsarten (Szenario / Testdurchlauf)\n"
   ]
  },
  {
   "attachments": {},
   "cell_type": "markdown",
   "id": "b8ed0170-f3d5-4287-8dd8-7439080d27af",
   "metadata": {},
   "source": [
    "## 4. Deskriptive/Explorative Datenanalyse [Philipp]\n",
    "\n",
    "- Plots\n",
    "- Beschreibung der Plots\n"
   ]
  },
  {
   "attachments": {},
   "cell_type": "markdown",
   "id": "4b92fefe-672c-4bba-97c1-f78747ff1dc1",
   "metadata": {},
   "source": [
    "## 5. Machine Learning [Kevin]\n",
    "\n",
    "Multi-Selektion für:\n",
    "\n",
    "- Auswahl der Featuredateien (Train/Testdaten)\n",
    "- Auswahl des Learners\n",
    "- Konfiguration der Hyperparameter\n",
    "- Live-Validation des Models mit vorausgewählten Testdaten (Random-Search, ...)\n"
   ]
  },
  {
   "cell_type": "code",
   "execution_count": 65,
   "id": "d8da6989",
   "metadata": {},
   "outputs": [
    {
     "data": {
      "application/vnd.jupyter.widget-view+json": {
       "model_id": "85c4c527bcb34cbdb2e7d940e628563d",
       "version_major": 2,
       "version_minor": 0
      },
      "text/plain": [
       "Dropdown(description='training features', options=('vib.test.setup2.csv', 'vib.train.setup1.csv'), value=None)"
      ]
     },
     "metadata": {},
     "output_type": "display_data"
    },
    {
     "data": {
      "application/vnd.jupyter.widget-view+json": {
       "model_id": "c8f1d6edc06445978176698e424611c5",
       "version_major": 2,
       "version_minor": 0
      },
      "text/plain": [
       "Dropdown(description='test features', options=('vib.test.setup2.csv', 'vib.train.setup1.csv'), value=None)"
      ]
     },
     "metadata": {},
     "output_type": "display_data"
    }
   ],
   "source": [
    "# SELECT TRAINING AND TEST DATA\n",
    "featureDataDir = list(filter(lambda x: os.path.isfile(os.path.join(PATH_FEATURE_DATA, x)) and DEFAULT_RAW_DATA_TYPE in x.upper(), os.listdir(PATH_FEATURE_DATA)))\n",
    "\n",
    "trainFileDropdown = widgets.Dropdown(description=\"training features\")\n",
    "trainFileDropdown.options = featureDataDir\n",
    "selectedTrainFile = None\n",
    "def onTrainigFileChange(change):\n",
    "    global selectedTrainFile\n",
    "    selectedTrainFile = change['new']\n",
    "trainFileDropdown.observe(onTrainigFileChange, names='value')\n",
    "display(trainFileDropdown)\n",
    "\n",
    "testFileDropdown = widgets.Dropdown(description=\"test features\")\n",
    "testFileDropdown.options = featureDataDir\n",
    "selectedTestFile = None\n",
    "def onTestFileChange(change):\n",
    "    global selectedTestFile\n",
    "    selectedTestFile = change['new']\n",
    "testFileDropdown.observe(onTestFileChange, names='value')\n",
    "display(testFileDropdown)\n"
   ]
  },
  {
   "cell_type": "code",
   "execution_count": 84,
   "id": "5e8f18d7",
   "metadata": {},
   "outputs": [],
   "source": [
    "# SET ML CONFIG\n",
    "FEATURE_TRAIN_FILE = PATH_FEATURE_DATA + selectedTrainFile\n",
    "FEATURE_TEST_FILE = PATH_FEATURE_DATA + selectedTestFile\n",
    "\n",
    "DEFAULT_OPERATING_POINTS = OPERATING_POINT_FREQ + OPERATING_POINT_FLOW_RATE\n",
    "\n",
    "\n",
    "# DNN\n",
    "DNN_EXPLORATION_TARGET_VAL_ACCURACY = 0.9\n",
    "DNN_EXPLORATION_MAX_ITER = 100\n",
    "DNN_EXPLORATION_HIDDEN_LAYERS_MIN = 1\n",
    "DNN_EXPLORATION_HIDDEN_LAYERS_MAX = 3\n",
    "DNN_EXPLORATION_NEURONS_MIN = 4\n",
    "DNN_EXPLORATION_NEURONS_MAX = 16\n",
    "\n",
    "\n",
    "DNN_EARLY_STOPPING_PATIENCE = 50\n",
    "DNN_VERBOSE = 1\n",
    "DNN_EPOCHS = 2000\n",
    "DNN_BATCH_SIZE = 128\n",
    "DNN_BATCH_NORMALIZATION = True\n",
    "\n",
    "\n",
    "# DT\n",
    "DT_MAX_DEPTH = 1\n",
    "DT_NUM_ESTIMATORS = 1"
   ]
  },
  {
   "cell_type": "code",
   "execution_count": 67,
   "id": "51491a91",
   "metadata": {},
   "outputs": [],
   "source": [
    "# LOAD DATA\n",
    "trainData = read_csv(FEATURE_TRAIN_FILE, header=None, delimiter=\";\").values\n",
    "testData = read_csv(FEATURE_TEST_FILE, header=None, delimiter=\";\").values\n",
    "\n",
    "trainX, trainY = trainData[:, 2:].astype('float32'), trainData[:, 1:2]\n",
    "testX, testY = testData[:, 2:].astype('float32'), testData[:, 1:2]"
   ]
  },
  {
   "cell_type": "code",
   "execution_count": 85,
   "id": "d6d7b343",
   "metadata": {},
   "outputs": [
    {
     "name": "stdout",
     "output_type": "stream",
     "text": [
      "[0]\tvalidation_0-mlogloss:1.28484\n",
      "Accuracy: 47.99%\n"
     ]
    }
   ],
   "source": [
    "# Train Decision Tree\n",
    "from sklearn.preprocessing import LabelEncoder\n",
    "from sklearn.metrics import accuracy_score\n",
    "from xgboost import XGBClassifier\n",
    "import joblib\n",
    "\n",
    "\n",
    "labelEncoder = LabelEncoder()\n",
    "labelEncoder = labelEncoder.fit(np.ravel(trainY))\n",
    "label_encoded_train_y = labelEncoder.transform(np.ravel(trainY))\n",
    "label_encoded_test_y = labelEncoder.transform(np.ravel(testY))\n",
    "\n",
    "\n",
    "\n",
    "\n",
    "xgb = XGBClassifier(\n",
    "    tree_method=\"hist\",\n",
    "    enable_categorical=True,\n",
    "    max_depth=DT_MAX_DEPTH,\n",
    "    n_estimators=DT_NUM_ESTIMATORS,\n",
    ")\n",
    "# fit model\n",
    "xgb.fit(trainX, label_encoded_train_y, eval_set=[(testX, label_encoded_test_y)])\n",
    "\n",
    "\n",
    "preds = xgb.predict(testX)\n",
    "accuracy = accuracy_score(label_encoded_test_y, preds)\n",
    "\n",
    "modelName = \"xgb.\"+str(round(time.time()))\n",
    "os.makedirs(PATH_MODEL + modelName)\n",
    "\n",
    "with open(PATH_MODEL + modelName + '/encoder.pickle', 'wb') as f:\n",
    "    joblib.dump(labelEncoder, f)\n",
    "\n",
    "XGBClassifier.save_model(xgb, PATH_MODEL + modelName + '/xgb.model')\n",
    "\n",
    "print(\"Accuracy: %.2f%%\" % (accuracy * 100.0))"
   ]
  },
  {
   "cell_type": "code",
   "execution_count": null,
   "id": "f987c57a",
   "metadata": {},
   "outputs": [],
   "source": [
    "# Train Neural Network\n",
    "import json\n",
    "import random\n",
    "import joblib\n",
    "from sklearn.preprocessing import OneHotEncoder\n",
    "from tensorflow.keras import Sequential\n",
    "from tensorflow.keras.layers import Dense, InputLayer, BatchNormalization\n",
    "from tensorflow.keras.callbacks import EarlyStopping\n",
    "\n",
    "onehotencoder = OneHotEncoder()\n",
    "onehotencoder = onehotencoder.fit(trainY)\n",
    "onehotEncodedTrainY = onehotencoder.transform(trainY).toarray()\n",
    "onehotEncodedTestY = onehotencoder.transform(testY).toarray()\n",
    "\n",
    "explorationResults = []\n",
    "\n",
    "\n",
    "n_features = trainX.shape[1]\n",
    "categories = len(onehotEncodedTrainY[0])\n",
    "\n",
    "testAcc = 0.0\n",
    "model = Sequential()\n",
    "interation = 0\n",
    "while (\n",
    "    testAcc < DNN_EXPLORATION_TARGET_VAL_ACCURACY\n",
    "    and interation < DNN_EXPLORATION_MAX_ITER\n",
    "):\n",
    "    model = Sequential()\n",
    "    model.add(InputLayer(input_shape=(n_features,)))\n",
    "    if (DNN_BATCH_NORMALIZATION):\n",
    "        model.add(BatchNormalization())\n",
    "    denseCount = random.randint(\n",
    "        DNN_EXPLORATION_HIDDEN_LAYERS_MIN, DNN_EXPLORATION_HIDDEN_LAYERS_MAX\n",
    "    )\n",
    "    denseNeurons = []\n",
    "    for i in range(0, denseCount):\n",
    "        neuronCount = random.randint(\n",
    "            DNN_EXPLORATION_NEURONS_MIN, DNN_EXPLORATION_NEURONS_MAX\n",
    "        )\n",
    "        denseNeurons.append(neuronCount)\n",
    "        model.add(Dense(neuronCount, activation=\"tanh\"))\n",
    "        if (DNN_BATCH_NORMALIZATION):\n",
    "            model.add(BatchNormalization())\n",
    "    model.add(Dense(categories, activation=\"sigmoid\"))\n",
    "    model.compile(\n",
    "        optimizer=\"adam\", loss=\"categorical_crossentropy\", metrics=[\"accuracy\"]\n",
    "    )\n",
    "    model.fit(\n",
    "        trainX,\n",
    "        onehotEncodedTrainY,\n",
    "        epochs=DNN_EPOCHS,\n",
    "        batch_size=DNN_BATCH_SIZE,\n",
    "        verbose=DNN_VERBOSE,\n",
    "        validation_data=(testX, onehotEncodedTestY),\n",
    "        callbacks=[\n",
    "            EarlyStopping(\n",
    "                monitor=\"val_loss\",\n",
    "                patience=DNN_EARLY_STOPPING_PATIENCE,\n",
    "                restore_best_weights=True,\n",
    "            )\n",
    "        ],\n",
    "    )\n",
    "\n",
    "    trainLoss, train_acc = model.evaluate(trainX, onehotEncodedTrainY)\n",
    "    testLoss, testAcc = model.evaluate(testX, onehotEncodedTestY)\n",
    "\n",
    "    explorationResults.append(\n",
    "        {\n",
    "            \"dense_count\": denseCount,\n",
    "            \"dense_neurons\": denseNeurons,\n",
    "            \"train_loss\": trainLoss,\n",
    "            \"train_acc\": train_acc,\n",
    "            \"test_loss\": testLoss,\n",
    "            \"test_acc\": testAcc,\n",
    "        }\n",
    "    )\n",
    "    interation += 1\n",
    "\n",
    "modelName = \"dnn.\" + str(round(time.time()))\n",
    "\n",
    "model.save(PATH_MODEL + modelName)\n",
    "\n",
    "with open(PATH_MODEL + modelName + '/encoder.pickle', 'wb') as f:\n",
    "    joblib.dump(onehotencoder, f)\n",
    "\n",
    "with open(PATH_EXPLORATION_DATA + modelName + \".exploration_results.json\", \"w\") as f:\n",
    "    json.dump(explorationResults, f, indent=4)"
   ]
  },
  {
   "attachments": {},
   "cell_type": "markdown",
   "id": "615dfc90-2798-42fe-8001-7be9ea78aa35",
   "metadata": {},
   "source": [
    "## 6. Modelanalyse des Learners [Kevin]\n",
    "\n",
    "- Vorherige Auswahl eines Learners\n",
    "- Feature Importance\n",
    "- Korrelationsmatrix\n",
    "- Konfusionsmatrix\n",
    "- Post-Validation des Models mit auswählbaren Daten\n"
   ]
  },
  {
   "cell_type": "code",
   "execution_count": 90,
   "id": "72ea0d36",
   "metadata": {},
   "outputs": [
    {
     "data": {
      "application/vnd.jupyter.widget-view+json": {
       "model_id": "7027559f84aa4f3d9690f31493b0240a",
       "version_major": 2,
       "version_minor": 0
      },
      "text/plain": [
       "Dropdown(description='model', options=('dnn.1685485299', 'dnn.1685486631', 'dnn.1685486739', 'xgb.1685483125',…"
      ]
     },
     "metadata": {},
     "output_type": "display_data"
    },
    {
     "data": {
      "application/vnd.jupyter.widget-view+json": {
       "model_id": "3d6690250e854bf68e4ff83743bfe328",
       "version_major": 2,
       "version_minor": 0
      },
      "text/plain": [
       "Dropdown(description='test data', options=('vib.test.setup2.csv', 'vib.train.setup1.csv'), value=None)"
      ]
     },
     "metadata": {},
     "output_type": "display_data"
    }
   ],
   "source": [
    "# SELECT LEARNER AND TEST DATA\n",
    "featureDataDir = list(filter(lambda x: os.path.isfile(os.path.join(PATH_FEATURE_DATA, x)) and DEFAULT_RAW_DATA_TYPE in x.upper(), os.listdir(PATH_FEATURE_DATA)))\n",
    "modelDir = os.listdir(PATH_MODEL)\n",
    "\n",
    "modelDropdown = widgets.Dropdown(description=\"model\")\n",
    "modelDropdown.options = modelDir\n",
    "selectedModelFile = None\n",
    "def onTrainigFileChange(change):\n",
    "    global selectedModelFile\n",
    "    selectedModelFile = change['new']\n",
    "modelDropdown.observe(onTrainigFileChange, names='value')\n",
    "display(modelDropdown)\n",
    "\n",
    "testFileDropdown = widgets.Dropdown(description=\"test data\")\n",
    "testFileDropdown.options = featureDataDir\n",
    "selectedTestFile = None\n",
    "def onTestFileChange(change):\n",
    "    global selectedTestFile\n",
    "    selectedTestFile = change['new']\n",
    "testFileDropdown.observe(onTestFileChange, names='value')\n",
    "display(testFileDropdown)\n"
   ]
  },
  {
   "cell_type": "code",
   "execution_count": 92,
   "id": "3e3540ef",
   "metadata": {},
   "outputs": [
    {
     "name": "stdout",
     "output_type": "stream",
     "text": [
      "207/207 [==============================] - 0s 653us/step\n"
     ]
    },
    {
     "data": {
      "image/png": "[encoded data removed]",
      "text/plain": [
       "<Figure size 480x480 with 1 Axes>"
      ]
     },
     "metadata": {},
     "output_type": "display_data"
    },
    {
     "name": "stdout",
     "output_type": "stream",
     "text": [
      "Test Accuracy: 0.962\n"
     ]
    }
   ],
   "source": [
    "# ANALYZE MODEL\n",
    "from matplotlib import pyplot\n",
    "import tensorflow as tf\n",
    "from tensorflow import math as tfmath\n",
    "import tensorflow_probability as tfp\n",
    "import eli5\n",
    "from eli5.sklearn import PermutationImportance\n",
    "import joblib\n",
    "\n",
    "testData = read_csv(PATH_FEATURE_DATA + selectedTestFile, header=None, delimiter=\";\").values\n",
    "testX, testY = testData[:, 2:].astype('float32'), testData[:, 1:2]\n",
    "\n",
    "\n",
    "model = None\n",
    "predictions = None\n",
    "transformedTestY = None\n",
    "confusionMatrix = None\n",
    "if (selectedModelFile.startswith('dnn')):\n",
    "    onehotencoder = None\n",
    "    with open(PATH_MODEL + selectedModelFile + '/encoder.pickle', 'rb') as f:\n",
    "        onehotencoder = joblib.load(f)\n",
    "    transformedTestY = onehotencoder.transform(testY).toarray()    \n",
    "\n",
    "    model = tf.keras.models.load_model(PATH_MODEL + selectedModelFile)\n",
    "    predictions = model.predict(testX)\n",
    "\n",
    "    confusionMatrix = tf.math.confusion_matrix(np.argmax(transformedTestY, axis=1), np.argmax(predictions, axis=1))\n",
    "    equality = tf.math.equal(np.argmax(predictions, axis=1), np.argmax(transformedTestY, axis=1))\n",
    "    accuracy = tf.math.reduce_mean(tf.cast(equality, tf.float32))\n",
    "elif (selectedModelFile.startswith('xgb')):\n",
    "    labelEncoder = None\n",
    "    with open(PATH_MODEL + selectedModelFile + '/encoder.pickle', 'rb') as f:\n",
    "        labelEncoder = joblib.load(f)\n",
    "    transformedTestY = labelEncoder.transform(np.ravel(testY))\n",
    "\n",
    "    model = XGBClassifier()\n",
    "    model.load_model(PATH_MODEL + selectedModelFile + '/xgb.model')\n",
    "    predictions = model.predict(testX)\n",
    "    confusionMatrix = tfmath.confusion_matrix(transformedTestY, predictions)\n",
    "\n",
    "\n",
    "    equality = tf.math.equal(predictions, transformedTestY)\n",
    "    accuracy = tf.math.reduce_mean(tf.cast(equality, tf.float32))\n",
    "\n",
    "pyplot.matshow(confusionMatrix, 1)\n",
    "for (x, y), value in np.ndenumerate(confusionMatrix):\n",
    "    pyplot.text(y, x, f\"{value:.2f}\", va=\"center\", ha=\"center\")\n",
    "pyplot.show()\n",
    "\n",
    "\n",
    "print('Test Accuracy: %.3f' % accuracy)\n",
    "\n",
    "\n",
    "#correlationMatrix = tfp.stats.correlation(testX)\n",
    "#pyplot.matshow(correlationMatrix)\n",
    "#pyplot.show()\n",
    "\n",
    "#perm = PermutationImportance(model, scoring=\"neg_mean_squared_error\", random_state=1).fit(test_x, transformedTestY)\n",
    "#print(eli5.format_as_text(eli5.explain_weights(perm, feature_names=feature_names)))"
   ]
  },
  {
   "attachments": {},
   "cell_type": "markdown",
   "id": "390a4a00-cdc0-4fae-bd1f-e92cd875dec1",
   "metadata": {},
   "source": [
    "## 7. Statische Interpretation des Resultats\n",
    "\n",
    "- Welches Ergebnis haben wir erzielt und wie kann man es anwenden?\n"
   ]
  }
 ],
 "metadata": {
  "kernelspec": {
   "display_name": "Python 3",
   "language": "python",
   "name": "python3"
  },
  "language_info": {
   "codemirror_mode": {
    "name": "ipython",
    "version": 3
   },
   "file_extension": ".py",
   "mimetype": "text/x-python",
   "name": "python",
   "nbconvert_exporter": "python",
   "pygments_lexer": "ipython3",
   "version": "3.10.9"
  }
 },
 "nbformat": 4,
 "nbformat_minor": 5
}
